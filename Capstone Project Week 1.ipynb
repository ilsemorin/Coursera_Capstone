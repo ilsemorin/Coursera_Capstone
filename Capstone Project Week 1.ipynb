{
    "cells": [
        {
            "cell_type": "markdown",
            "metadata": {
                "collapsed": true
            },
            "source": "# Capstone Project -  (Week 1) Finding a location\n### Applied Data Science Capstone by IBM/Coursera"
        },
        {
            "cell_type": "markdown",
            "metadata": {},
            "source": "## Table of contents\n* [Introduction](#introduction)\n* [Data](#data)\n* [Methodology](#methodology)\n* [Analysis](#analysis)\n* [Discussion](#discussion)\n* [Conclusion](#conclusion)"
        },
        {
            "cell_type": "markdown",
            "metadata": {},
            "source": "## Introduction <a name=\"introduction\"></a>"
        },
        {
            "cell_type": "markdown",
            "metadata": {},
            "source": "\nIn this project we will try to find an optimal location to rent a studio apartment in New York City. Specifically, this report will be addressed to **those students who need to rent a room to access their classes at Columbia University in New York City**.\n\nAs there are many studio apartments in New York City, we will try to detect places considering 3 factors; crime rate, rent cost and finally, proximity to places of preference. We would also prefer locations as close as possible to the university, assuming the first three conditions are met.\n\nWe will use data science to generate some more promising neighborhoods based on this criterion. The advantages of each area will be clearly expressed so that those interested can choose the best possible final location."
        },
        {
            "cell_type": "markdown",
            "metadata": {},
            "source": "## Data <a name=\"data\"></a>"
        },
        {
            "cell_type": "markdown",
            "metadata": {},
            "source": "Based on definition of our problem, factors that will influence our decission are:\n\n* Number of crimes committed in each county of New York City\n* Average rental cost of a studio apartment\n* Proximity to places of preference\n\nWe decided to use regularly spaced grid of locations, centered around city center, to define our neighborhoods.\n\nFollowing data sources will be needed to extract/generate the required information:\n\n* Number of total crimes per county, for which the database of **Open Data** will be used \"NYPD Complaint Data Current (Year To Date)\" 'https://data.cityofnewyork.us/api/views/5uac-w243/rows.csv'\n\n* The exact middle asking rent among all rental listings available on **StreetEasy** at any point during the month/quarter/year. In general, median values are more accurate than average values, which may be skewed by price outliers (a few rentals that are extremely expensive or extremely inexpensive).\nhttps://streeteasy-market-data-download.s3.amazonaws.com/rentals/Studio/medianAskingRent_Studio.zip\n\n* Number of preference places and their type and location in every neighborhood will be obtained using **Foursquare API**"
        }
    ],
    "metadata": {
        "kernelspec": {
            "display_name": "Python 3.6",
            "language": "python",
            "name": "python3"
        },
        "language_info": {
            "codemirror_mode": {
                "name": "ipython",
                "version": 3
            },
            "file_extension": ".py",
            "mimetype": "text/x-python",
            "name": "python",
            "nbconvert_exporter": "python",
            "pygments_lexer": "ipython3",
            "version": "3.6.9"
        }
    },
    "nbformat": 4,
    "nbformat_minor": 1
}